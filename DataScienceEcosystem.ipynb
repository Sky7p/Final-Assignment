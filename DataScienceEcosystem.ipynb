{
 "cells": [
  {
   "cell_type": "markdown",
   "id": "d52380af-1fd1-4e6b-bb3c-0a55d2f59610",
   "metadata": {},
   "source": [
    "# Data Science Tools and Ecosystem"
   ]
  },
  {
   "cell_type": "markdown",
   "id": "0c21043b-601a-4eca-96a7-489c71dd7191",
   "metadata": {},
   "source": [
    "In this notebook, Data Science Tools and Ecosystem are summarized."
   ]
  },
  {
   "cell_type": "markdown",
   "id": "bda0dbae-93a3-4fe2-a80d-b02004ffe889",
   "metadata": {},
   "source": [
    "**Objectives:**\n",
    "+ Create a Jupyter Notebook\n",
    "+ Create markdown cells for ordered and unordered list, tables, headings\n",
    "+ Create code cells for arithmetic expression\n",
    "+ Screenshot of each exercise "
   ]
  },
  {
   "cell_type": "markdown",
   "id": "b29baf1d-6611-43c3-8f9d-20d558cf0c26",
   "metadata": {},
   "source": [
    "Some of the popular languages that Data Scientists use are:\n",
    "\n",
    "1. Python \n",
    "2. SQL \n",
    "3. R \n",
    "4. JavaScript"
   ]
  },
  {
   "cell_type": "markdown",
   "id": "eb3519c7-628b-4d1b-b87b-d196b8b2e8b4",
   "metadata": {},
   "source": [
    "Some of the popular languages that Data Scientists use are:\n",
    "1. Matplotlib\n",
    "2. NumPY\n",
    "3. Pandas\n",
    "4. SciPY"
   ]
  },
  {
   "cell_type": "markdown",
   "id": "4c55ae08-b678-4c08-98bc-75a5ba7cb77f",
   "metadata": {},
   "source": [
    "| Data Science Tools |\n",
    "| ------ |\n",
    "| Jupyter Notebook |\n",
    "| RStudio |\n",
    "| GitHUb |"
   ]
  },
  {
   "cell_type": "markdown",
   "id": "aa428748-cb95-44aa-a027-68bf0bf4f57a",
   "metadata": {},
   "source": [
    "### Below are a few examples of evaluating arithmetic expressions in Python"
   ]
  },
  {
   "cell_type": "code",
   "execution_count": 5,
   "id": "edc43a9b-fdc4-4401-88fe-d2ab9d49c44a",
   "metadata": {
    "tags": []
   },
   "outputs": [
    {
     "data": {
      "text/plain": [
       "17"
      ]
     },
     "execution_count": 5,
     "metadata": {},
     "output_type": "execute_result"
    }
   ],
   "source": [
    "# This a simple arithmetic expression to mutiply then add integers\n",
    "(3*4)+5"
   ]
  },
  {
   "cell_type": "code",
   "execution_count": 15,
   "id": "dcc46b05-1bc4-4212-bc9b-2db9f07458ec",
   "metadata": {
    "tags": []
   },
   "outputs": [
    {
     "name": "stdout",
     "output_type": "stream",
     "text": [
      "200 minutes is equal to 3.3333333333333335 hours.\n"
     ]
    }
   ],
   "source": [
    "# This will convert 200 minutes to hours by diving by 60\n",
    "minutes = 200\n",
    "hours = minutes / 60\n",
    "print(\"200 minutes is equal to\", hours, \"hours.\")"
   ]
  },
  {
   "cell_type": "markdown",
   "id": "727dfbcb-e8cb-40f0-9aeb-cd36771c5467",
   "metadata": {},
   "source": [
    "## Author\n",
    "Akash P"
   ]
  },
  {
   "cell_type": "code",
   "execution_count": null,
   "id": "186f0f93-b932-45b9-acff-015acbdd3920",
   "metadata": {},
   "outputs": [],
   "source": []
  }
 ],
 "metadata": {
  "kernelspec": {
   "display_name": "Python",
   "language": "python",
   "name": "conda-env-python-py"
  },
  "language_info": {
   "codemirror_mode": {
    "name": "ipython",
    "version": 3
   },
   "file_extension": ".py",
   "mimetype": "text/x-python",
   "name": "python",
   "nbconvert_exporter": "python",
   "pygments_lexer": "ipython3",
   "version": "3.7.12"
  }
 },
 "nbformat": 4,
 "nbformat_minor": 5
}
